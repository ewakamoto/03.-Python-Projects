{
 "cells": [
  {
   "cell_type": "code",
   "execution_count": 3,
   "id": "bde8b414-d144-4f69-b6a0-765e5f5e5357",
   "metadata": {},
   "outputs": [],
   "source": [
    "import numpy as np\n",
    "import matplotlib.pyplot as plt\n",
    "import pandas as pd\n",
    "import seaborn as sns"
   ]
  },
  {
   "cell_type": "code",
   "execution_count": 67,
   "id": "de1ecfb4-690d-431b-a3fe-07af4486774b",
   "metadata": {},
   "outputs": [
    {
     "name": "stdout",
     "output_type": "stream",
     "text": [
      "     id  apt_price neighborhood    zone  condominium_fees square meter  rooms  \\\n",
      "0  1000     300000      Cambuci  Centro               350           37      1   \n",
      "1  1001     320000      Cambuci  Centro               396           39      1   \n",
      "2  1002     308000      Cambuci  Centro               396           41      1   \n",
      "3  1003     315000         Brás  Centro               600           33      1   \n",
      "4  1004     330000         Brás  Centro               320           38      1   \n",
      "\n",
      "   parking_spaces  floor  furniture  age             balcony windowpane  \\\n",
      "0               1     17          7  New  Very Large Balcony       10,1   \n",
      "1               1     11         10  New  Very Large Balcony       10,1   \n",
      "2               1     18          8  New         Big Balcony          9   \n",
      "3               1     17         10  New  Very Large Balcony          9   \n",
      "4               1     13         10  New  Very Large Balcony          9   \n",
      "\n",
      "  recreation_area  \n",
      "0        Complete  \n",
      "1        Complete  \n",
      "2        Complete  \n",
      "3        Complete  \n",
      "4          Medium  \n"
     ]
    }
   ],
   "source": [
    "import pandas as pd  \n",
    "\n",
    "df = pd.read_csv('apartamento_sp.csv', sep = ';')  \n",
    "print(df.head()) \n"
   ]
  },
  {
   "cell_type": "code",
   "execution_count": 65,
   "id": "f1f0624d-a2f0-4490-baa6-db719d270357",
   "metadata": {},
   "outputs": [
    {
     "name": "stdout",
     "output_type": "stream",
     "text": [
      "      id  apt_price  neighborhood    zone  condominium_fees square meter  \\\n",
      "72  1072     256000       Cambuci  Centro               415           36   \n",
      "73  1073     265000       Santana   Norte               200           32   \n",
      "74  1074     220000       Cambuci  Centro               300           38   \n",
      "75  1075     270000     Liberdade  Centro               378           38   \n",
      "76  1076     225000  Sta Efigênia  Centro               445           42   \n",
      "\n",
      "    rooms  parking_spaces  floor  furniture       age         balcony  \\\n",
      "72      1               0      5          5  Semi New   Small Balcony   \n",
      "73      1               0      1          2       New   Small Balcony   \n",
      "74      1               0      1          1  Very Old  Medium Balcony   \n",
      "75      1               0      9          2       Old   Small Balcony   \n",
      "76      1               0      1          3  Very Old      No Balcony   \n",
      "\n",
      "   windowpane     recreation_area  \n",
      "72        0,1  No Recreation Area  \n",
      "73        0,1  No Recreation Area  \n",
      "74        0,1               Basic  \n",
      "75        0,1  No Recreation Area  \n",
      "76        0,1  No Recreation Area  \n"
     ]
    }
   ],
   "source": [
    "print(df.tail())"
   ]
  },
  {
   "cell_type": "code",
   "execution_count": 63,
   "id": "fb52b2b3-f6ff-42ca-984b-e016423e2e2c",
   "metadata": {},
   "outputs": [
    {
     "name": "stdout",
     "output_type": "stream",
     "text": [
      "<class 'pandas.core.frame.DataFrame'>\n",
      "RangeIndex: 77 entries, 0 to 76\n",
      "Data columns (total 14 columns):\n",
      " #   Column            Non-Null Count  Dtype \n",
      "---  ------            --------------  ----- \n",
      " 0   id                77 non-null     int64 \n",
      " 1   apt_price         77 non-null     int64 \n",
      " 2   neighborhood      77 non-null     object\n",
      " 3   zone              77 non-null     object\n",
      " 4   condominium_fees  77 non-null     int64 \n",
      " 5   square meter      77 non-null     object\n",
      " 6   rooms             77 non-null     int64 \n",
      " 7   parking_spaces    77 non-null     int64 \n",
      " 8   floor             77 non-null     int64 \n",
      " 9   furniture         77 non-null     int64 \n",
      " 10  age               77 non-null     object\n",
      " 11  balcony           77 non-null     object\n",
      " 12  windowpane        77 non-null     object\n",
      " 13  recreation_area   77 non-null     object\n",
      "dtypes: int64(7), object(7)\n",
      "memory usage: 8.6+ KB\n",
      "None\n"
     ]
    }
   ],
   "source": [
    "print(df.info())"
   ]
  },
  {
   "cell_type": "code",
   "execution_count": 61,
   "id": "f545cf6b-551a-4350-8c55-282139c1df4f",
   "metadata": {},
   "outputs": [
    {
     "name": "stdout",
     "output_type": "stream",
     "text": [
      "(77, 14)\n"
     ]
    }
   ],
   "source": [
    "print(df.shape)"
   ]
  },
  {
   "cell_type": "code",
   "execution_count": 59,
   "id": "cccdf3f0-fc41-4849-aa53-b3265a605095",
   "metadata": {},
   "outputs": [
    {
     "name": "stdout",
     "output_type": "stream",
     "text": [
      "                id      apt_price  condominium_fees      rooms  \\\n",
      "count    77.000000      77.000000         77.000000  77.000000   \n",
      "mean   1038.000000  281846.753247        365.961039   1.103896   \n",
      "std      22.371857   33811.285816         86.283871   0.307127   \n",
      "min    1000.000000  220000.000000         97.000000   1.000000   \n",
      "25%    1019.000000  255000.000000        300.000000   1.000000   \n",
      "50%    1038.000000  280000.000000        365.000000   1.000000   \n",
      "75%    1057.000000  310000.000000        420.000000   1.000000   \n",
      "max    1076.000000  349000.000000        600.000000   2.000000   \n",
      "\n",
      "       parking_spaces      floor  furniture  \n",
      "count       77.000000  77.000000  77.000000  \n",
      "mean         0.220779   7.506494   5.038961  \n",
      "std          0.417492   6.773834   2.948869  \n",
      "min          0.000000   1.000000   1.000000  \n",
      "25%          0.000000   1.000000   3.000000  \n",
      "50%          0.000000   5.000000   4.000000  \n",
      "75%          0.000000  13.000000   7.000000  \n",
      "max          1.000000  41.000000  10.000000  \n"
     ]
    }
   ],
   "source": [
    "print(df.describe())"
   ]
  },
  {
   "cell_type": "code",
   "execution_count": 57,
   "id": "0aa6fd13-c7b9-4292-b704-13e745dd52c0",
   "metadata": {},
   "outputs": [
    {
     "name": "stdout",
     "output_type": "stream",
     "text": [
      "       id  apt_price  neighborhood   zone  condominium_fees  square meter  \\\n",
      "0   False      False         False  False             False         False   \n",
      "1   False      False         False  False             False         False   \n",
      "2   False      False         False  False             False         False   \n",
      "3   False      False         False  False             False         False   \n",
      "4   False      False         False  False             False         False   \n",
      "..    ...        ...           ...    ...               ...           ...   \n",
      "72  False      False         False  False             False         False   \n",
      "73  False      False         False  False             False         False   \n",
      "74  False      False         False  False             False         False   \n",
      "75  False      False         False  False             False         False   \n",
      "76  False      False         False  False             False         False   \n",
      "\n",
      "    rooms  parking_spaces  floor  furniture    age  balcony  windowpane  \\\n",
      "0   False           False  False      False  False    False       False   \n",
      "1   False           False  False      False  False    False       False   \n",
      "2   False           False  False      False  False    False       False   \n",
      "3   False           False  False      False  False    False       False   \n",
      "4   False           False  False      False  False    False       False   \n",
      "..    ...             ...    ...        ...    ...      ...         ...   \n",
      "72  False           False  False      False  False    False       False   \n",
      "73  False           False  False      False  False    False       False   \n",
      "74  False           False  False      False  False    False       False   \n",
      "75  False           False  False      False  False    False       False   \n",
      "76  False           False  False      False  False    False       False   \n",
      "\n",
      "    recreation_area  \n",
      "0             False  \n",
      "1             False  \n",
      "2             False  \n",
      "3             False  \n",
      "4             False  \n",
      "..              ...  \n",
      "72            False  \n",
      "73            False  \n",
      "74            False  \n",
      "75            False  \n",
      "76            False  \n",
      "\n",
      "[77 rows x 14 columns]\n"
     ]
    }
   ],
   "source": [
    "print(df.isnull())"
   ]
  },
  {
   "cell_type": "code",
   "execution_count": 55,
   "id": "0fac9185-aefe-47ca-b00a-df779837a8e0",
   "metadata": {},
   "outputs": [
    {
     "name": "stdout",
     "output_type": "stream",
     "text": [
      "      id  apt_price  neighborhood    zone  condominium_fees square meter  \\\n",
      "0   1000     300000       Cambuci  Centro               350           37   \n",
      "1   1001     320000       Cambuci  Centro               396           39   \n",
      "2   1002     308000       Cambuci  Centro               396           41   \n",
      "3   1003     315000          Brás  Centro               600           33   \n",
      "4   1004     330000          Brás  Centro               320           38   \n",
      "..   ...        ...           ...     ...               ...          ...   \n",
      "72  1072     256000       Cambuci  Centro               415           36   \n",
      "73  1073     265000       Santana   Norte               200           32   \n",
      "74  1074     220000       Cambuci  Centro               300           38   \n",
      "75  1075     270000     Liberdade  Centro               378           38   \n",
      "76  1076     225000  Sta Efigênia  Centro               445           42   \n",
      "\n",
      "    rooms  parking_spaces  floor  furniture       age             balcony  \\\n",
      "0       1               1     17          7       New  Very Large Balcony   \n",
      "1       1               1     11         10       New  Very Large Balcony   \n",
      "2       1               1     18          8       New         Big Balcony   \n",
      "3       1               1     17         10       New  Very Large Balcony   \n",
      "4       1               1     13         10       New  Very Large Balcony   \n",
      "..    ...             ...    ...        ...       ...                 ...   \n",
      "72      1               0      5          5  Semi New       Small Balcony   \n",
      "73      1               0      1          2       New       Small Balcony   \n",
      "74      1               0      1          1  Very Old      Medium Balcony   \n",
      "75      1               0      9          2       Old       Small Balcony   \n",
      "76      1               0      1          3  Very Old          No Balcony   \n",
      "\n",
      "   windowpane     recreation_area  \n",
      "0        10,1            Complete  \n",
      "1        10,1            Complete  \n",
      "2           9            Complete  \n",
      "3           9            Complete  \n",
      "4           9              Medium  \n",
      "..        ...                 ...  \n",
      "72        0,1  No Recreation Area  \n",
      "73        0,1  No Recreation Area  \n",
      "74        0,1               Basic  \n",
      "75        0,1  No Recreation Area  \n",
      "76        0,1  No Recreation Area  \n",
      "\n",
      "[77 rows x 14 columns]\n"
     ]
    }
   ],
   "source": [
    "print(df.dropna())"
   ]
  },
  {
   "cell_type": "code",
   "execution_count": 33,
   "id": "01d6b0d7-0b44-484f-a789-1dad0f8351f7",
   "metadata": {},
   "outputs": [
    {
     "name": "stdout",
     "output_type": "stream",
     "text": [
      "Index(['id;apt_price;neighborhood;zone;condominium_fees;square meter;rooms;parking_spaces;floor;furniture;age;balcony;windowpane;recreation_area'], dtype='object')\n"
     ]
    }
   ],
   "source": [
    "print(df.columns)"
   ]
  },
  {
   "cell_type": "code",
   "execution_count": 37,
   "id": "e5e9211f-003d-4110-afc9-0ad933d8980b",
   "metadata": {},
   "outputs": [
    {
     "name": "stdout",
     "output_type": "stream",
     "text": [
      "id;apt_price;neighborhood;zone;condominium_fees;square meter;rooms;parking_spaces;floor;furniture;age;balcony;windowpane;recreation_area    object\n",
      "dtype: object\n"
     ]
    }
   ],
   "source": [
    "print(df.dtypes)  "
   ]
  },
  {
   "cell_type": "code",
   "execution_count": 51,
   "id": "13b33928-ab0e-4ed7-bfe2-2dfdb0903798",
   "metadata": {},
   "outputs": [
    {
     "name": "stdout",
     "output_type": "stream",
     "text": [
      "int64\n"
     ]
    }
   ],
   "source": [
    "print(df['apt_price'].dtype)"
   ]
  },
  {
   "cell_type": "code",
   "execution_count": 69,
   "id": "7f28c9a3-ae52-4bbb-b10f-743be33b876b",
   "metadata": {},
   "outputs": [
    {
     "data": {
      "text/html": [
       "<div>\n",
       "<style scoped>\n",
       "    .dataframe tbody tr th:only-of-type {\n",
       "        vertical-align: middle;\n",
       "    }\n",
       "\n",
       "    .dataframe tbody tr th {\n",
       "        vertical-align: top;\n",
       "    }\n",
       "\n",
       "    .dataframe thead th {\n",
       "        text-align: right;\n",
       "    }\n",
       "</style>\n",
       "<table border=\"1\" class=\"dataframe\">\n",
       "  <thead>\n",
       "    <tr style=\"text-align: right;\">\n",
       "      <th></th>\n",
       "      <th>id</th>\n",
       "      <th>apt_price</th>\n",
       "      <th>neighborhood</th>\n",
       "      <th>zone</th>\n",
       "      <th>condominium_fees</th>\n",
       "      <th>square meter</th>\n",
       "      <th>rooms</th>\n",
       "      <th>parking_spaces</th>\n",
       "      <th>floor</th>\n",
       "      <th>furniture</th>\n",
       "      <th>age</th>\n",
       "      <th>balcony</th>\n",
       "      <th>windowpane</th>\n",
       "      <th>recreation_area</th>\n",
       "    </tr>\n",
       "  </thead>\n",
       "  <tbody>\n",
       "    <tr>\n",
       "      <th>74</th>\n",
       "      <td>1074</td>\n",
       "      <td>220000</td>\n",
       "      <td>Cambuci</td>\n",
       "      <td>Centro</td>\n",
       "      <td>300</td>\n",
       "      <td>38</td>\n",
       "      <td>1</td>\n",
       "      <td>0</td>\n",
       "      <td>1</td>\n",
       "      <td>1</td>\n",
       "      <td>Very Old</td>\n",
       "      <td>Medium Balcony</td>\n",
       "      <td>0,1</td>\n",
       "      <td>Basic</td>\n",
       "    </tr>\n",
       "    <tr>\n",
       "      <th>76</th>\n",
       "      <td>1076</td>\n",
       "      <td>225000</td>\n",
       "      <td>Sta Efigênia</td>\n",
       "      <td>Centro</td>\n",
       "      <td>445</td>\n",
       "      <td>42</td>\n",
       "      <td>1</td>\n",
       "      <td>0</td>\n",
       "      <td>1</td>\n",
       "      <td>3</td>\n",
       "      <td>Very Old</td>\n",
       "      <td>No Balcony</td>\n",
       "      <td>0,1</td>\n",
       "      <td>No Recreation Area</td>\n",
       "    </tr>\n",
       "    <tr>\n",
       "      <th>47</th>\n",
       "      <td>1047</td>\n",
       "      <td>225000</td>\n",
       "      <td>Cambuci</td>\n",
       "      <td>Centro</td>\n",
       "      <td>350</td>\n",
       "      <td>32</td>\n",
       "      <td>1</td>\n",
       "      <td>0</td>\n",
       "      <td>1</td>\n",
       "      <td>4</td>\n",
       "      <td>New</td>\n",
       "      <td>Medium Balcony</td>\n",
       "      <td>0,1</td>\n",
       "      <td>Medium</td>\n",
       "    </tr>\n",
       "    <tr>\n",
       "      <th>71</th>\n",
       "      <td>1071</td>\n",
       "      <td>225000</td>\n",
       "      <td>Cambuci</td>\n",
       "      <td>Centro</td>\n",
       "      <td>450</td>\n",
       "      <td>36</td>\n",
       "      <td>1</td>\n",
       "      <td>0</td>\n",
       "      <td>9</td>\n",
       "      <td>1</td>\n",
       "      <td>Semi New</td>\n",
       "      <td>No Balcony</td>\n",
       "      <td>0,1</td>\n",
       "      <td>Medium</td>\n",
       "    </tr>\n",
       "    <tr>\n",
       "      <th>35</th>\n",
       "      <td>1035</td>\n",
       "      <td>230000</td>\n",
       "      <td>Liberdade</td>\n",
       "      <td>Centro</td>\n",
       "      <td>360</td>\n",
       "      <td>34</td>\n",
       "      <td>1</td>\n",
       "      <td>0</td>\n",
       "      <td>13</td>\n",
       "      <td>4</td>\n",
       "      <td>New</td>\n",
       "      <td>Medium Balcony</td>\n",
       "      <td>0,1</td>\n",
       "      <td>Complete</td>\n",
       "    </tr>\n",
       "    <tr>\n",
       "      <th>...</th>\n",
       "      <td>...</td>\n",
       "      <td>...</td>\n",
       "      <td>...</td>\n",
       "      <td>...</td>\n",
       "      <td>...</td>\n",
       "      <td>...</td>\n",
       "      <td>...</td>\n",
       "      <td>...</td>\n",
       "      <td>...</td>\n",
       "      <td>...</td>\n",
       "      <td>...</td>\n",
       "      <td>...</td>\n",
       "      <td>...</td>\n",
       "      <td>...</td>\n",
       "    </tr>\n",
       "    <tr>\n",
       "      <th>36</th>\n",
       "      <td>1036</td>\n",
       "      <td>330000</td>\n",
       "      <td>Cambuci</td>\n",
       "      <td>Centro</td>\n",
       "      <td>400</td>\n",
       "      <td>36</td>\n",
       "      <td>1</td>\n",
       "      <td>0</td>\n",
       "      <td>1</td>\n",
       "      <td>4</td>\n",
       "      <td>New</td>\n",
       "      <td>Very Large Balcony</td>\n",
       "      <td>10,1</td>\n",
       "      <td>Basic</td>\n",
       "    </tr>\n",
       "    <tr>\n",
       "      <th>10</th>\n",
       "      <td>1010</td>\n",
       "      <td>335000</td>\n",
       "      <td>Mooca</td>\n",
       "      <td>Leste</td>\n",
       "      <td>235</td>\n",
       "      <td>34</td>\n",
       "      <td>1</td>\n",
       "      <td>0</td>\n",
       "      <td>5</td>\n",
       "      <td>9</td>\n",
       "      <td>New</td>\n",
       "      <td>Big Balcony</td>\n",
       "      <td>10,1</td>\n",
       "      <td>Complete</td>\n",
       "    </tr>\n",
       "    <tr>\n",
       "      <th>7</th>\n",
       "      <td>1007</td>\n",
       "      <td>339000</td>\n",
       "      <td>Cambuci</td>\n",
       "      <td>Centro</td>\n",
       "      <td>290</td>\n",
       "      <td>35</td>\n",
       "      <td>1</td>\n",
       "      <td>0</td>\n",
       "      <td>17</td>\n",
       "      <td>10</td>\n",
       "      <td>New</td>\n",
       "      <td>Very Large Balcony</td>\n",
       "      <td>10,1</td>\n",
       "      <td>Medium</td>\n",
       "    </tr>\n",
       "    <tr>\n",
       "      <th>69</th>\n",
       "      <td>1069</td>\n",
       "      <td>340000</td>\n",
       "      <td>Sta Efigênia</td>\n",
       "      <td>Centro</td>\n",
       "      <td>485</td>\n",
       "      <td>32</td>\n",
       "      <td>1</td>\n",
       "      <td>1</td>\n",
       "      <td>5</td>\n",
       "      <td>4</td>\n",
       "      <td>Old</td>\n",
       "      <td>Small Balcony</td>\n",
       "      <td>0,1</td>\n",
       "      <td>Medium</td>\n",
       "    </tr>\n",
       "    <tr>\n",
       "      <th>33</th>\n",
       "      <td>1033</td>\n",
       "      <td>349000</td>\n",
       "      <td>Mooca</td>\n",
       "      <td>Leste</td>\n",
       "      <td>420</td>\n",
       "      <td>34</td>\n",
       "      <td>1</td>\n",
       "      <td>0</td>\n",
       "      <td>17</td>\n",
       "      <td>7</td>\n",
       "      <td>New</td>\n",
       "      <td>Big Balcony</td>\n",
       "      <td>2</td>\n",
       "      <td>Complete</td>\n",
       "    </tr>\n",
       "  </tbody>\n",
       "</table>\n",
       "<p>77 rows × 14 columns</p>\n",
       "</div>"
      ],
      "text/plain": [
       "      id  apt_price  neighborhood    zone  condominium_fees square meter  \\\n",
       "74  1074     220000       Cambuci  Centro               300           38   \n",
       "76  1076     225000  Sta Efigênia  Centro               445           42   \n",
       "47  1047     225000       Cambuci  Centro               350           32   \n",
       "71  1071     225000       Cambuci  Centro               450           36   \n",
       "35  1035     230000     Liberdade  Centro               360           34   \n",
       "..   ...        ...           ...     ...               ...          ...   \n",
       "36  1036     330000       Cambuci  Centro               400           36   \n",
       "10  1010     335000         Mooca   Leste               235           34   \n",
       "7   1007     339000       Cambuci  Centro               290           35   \n",
       "69  1069     340000  Sta Efigênia  Centro               485           32   \n",
       "33  1033     349000         Mooca   Leste               420           34   \n",
       "\n",
       "    rooms  parking_spaces  floor  furniture       age             balcony  \\\n",
       "74      1               0      1          1  Very Old      Medium Balcony   \n",
       "76      1               0      1          3  Very Old          No Balcony   \n",
       "47      1               0      1          4       New      Medium Balcony   \n",
       "71      1               0      9          1  Semi New          No Balcony   \n",
       "35      1               0     13          4       New      Medium Balcony   \n",
       "..    ...             ...    ...        ...       ...                 ...   \n",
       "36      1               0      1          4       New  Very Large Balcony   \n",
       "10      1               0      5          9       New         Big Balcony   \n",
       "7       1               0     17         10       New  Very Large Balcony   \n",
       "69      1               1      5          4       Old       Small Balcony   \n",
       "33      1               0     17          7       New         Big Balcony   \n",
       "\n",
       "   windowpane     recreation_area  \n",
       "74        0,1               Basic  \n",
       "76        0,1  No Recreation Area  \n",
       "47        0,1              Medium  \n",
       "71        0,1              Medium  \n",
       "35        0,1            Complete  \n",
       "..        ...                 ...  \n",
       "36       10,1               Basic  \n",
       "10       10,1            Complete  \n",
       "7        10,1              Medium  \n",
       "69        0,1              Medium  \n",
       "33          2            Complete  \n",
       "\n",
       "[77 rows x 14 columns]"
      ]
     },
     "execution_count": 69,
     "metadata": {},
     "output_type": "execute_result"
    }
   ],
   "source": [
    "df.sort_values('apt_price', ascending=True)"
   ]
  },
  {
   "cell_type": "code",
   "execution_count": 73,
   "id": "e3864165-90aa-4203-bbb8-2a6b8ff60474",
   "metadata": {},
   "outputs": [
    {
     "data": {
      "text/html": [
       "<div>\n",
       "<style scoped>\n",
       "    .dataframe tbody tr th:only-of-type {\n",
       "        vertical-align: middle;\n",
       "    }\n",
       "\n",
       "    .dataframe tbody tr th {\n",
       "        vertical-align: top;\n",
       "    }\n",
       "\n",
       "    .dataframe thead th {\n",
       "        text-align: right;\n",
       "    }\n",
       "</style>\n",
       "<table border=\"1\" class=\"dataframe\">\n",
       "  <thead>\n",
       "    <tr style=\"text-align: right;\">\n",
       "      <th></th>\n",
       "      <th>id</th>\n",
       "      <th>apt_price</th>\n",
       "      <th>neighborhood</th>\n",
       "      <th>zone</th>\n",
       "      <th>condominium_fees</th>\n",
       "      <th>square meter</th>\n",
       "      <th>rooms</th>\n",
       "      <th>parking_spaces</th>\n",
       "      <th>floor</th>\n",
       "      <th>furniture</th>\n",
       "      <th>age</th>\n",
       "      <th>balcony</th>\n",
       "      <th>windowpane</th>\n",
       "      <th>recreation_area</th>\n",
       "    </tr>\n",
       "  </thead>\n",
       "  <tbody>\n",
       "    <tr>\n",
       "      <th>33</th>\n",
       "      <td>1033</td>\n",
       "      <td>349000</td>\n",
       "      <td>Mooca</td>\n",
       "      <td>Leste</td>\n",
       "      <td>420</td>\n",
       "      <td>34</td>\n",
       "      <td>1</td>\n",
       "      <td>0</td>\n",
       "      <td>17</td>\n",
       "      <td>7</td>\n",
       "      <td>New</td>\n",
       "      <td>Big Balcony</td>\n",
       "      <td>2</td>\n",
       "      <td>Complete</td>\n",
       "    </tr>\n",
       "    <tr>\n",
       "      <th>69</th>\n",
       "      <td>1069</td>\n",
       "      <td>340000</td>\n",
       "      <td>Sta Efigênia</td>\n",
       "      <td>Centro</td>\n",
       "      <td>485</td>\n",
       "      <td>32</td>\n",
       "      <td>1</td>\n",
       "      <td>1</td>\n",
       "      <td>5</td>\n",
       "      <td>4</td>\n",
       "      <td>Old</td>\n",
       "      <td>Small Balcony</td>\n",
       "      <td>0,1</td>\n",
       "      <td>Medium</td>\n",
       "    </tr>\n",
       "    <tr>\n",
       "      <th>7</th>\n",
       "      <td>1007</td>\n",
       "      <td>339000</td>\n",
       "      <td>Cambuci</td>\n",
       "      <td>Centro</td>\n",
       "      <td>290</td>\n",
       "      <td>35</td>\n",
       "      <td>1</td>\n",
       "      <td>0</td>\n",
       "      <td>17</td>\n",
       "      <td>10</td>\n",
       "      <td>New</td>\n",
       "      <td>Very Large Balcony</td>\n",
       "      <td>10,1</td>\n",
       "      <td>Medium</td>\n",
       "    </tr>\n",
       "    <tr>\n",
       "      <th>10</th>\n",
       "      <td>1010</td>\n",
       "      <td>335000</td>\n",
       "      <td>Mooca</td>\n",
       "      <td>Leste</td>\n",
       "      <td>235</td>\n",
       "      <td>34</td>\n",
       "      <td>1</td>\n",
       "      <td>0</td>\n",
       "      <td>5</td>\n",
       "      <td>9</td>\n",
       "      <td>New</td>\n",
       "      <td>Big Balcony</td>\n",
       "      <td>10,1</td>\n",
       "      <td>Complete</td>\n",
       "    </tr>\n",
       "    <tr>\n",
       "      <th>30</th>\n",
       "      <td>1030</td>\n",
       "      <td>330000</td>\n",
       "      <td>Ipiranga</td>\n",
       "      <td>Sul</td>\n",
       "      <td>390</td>\n",
       "      <td>25</td>\n",
       "      <td>1</td>\n",
       "      <td>0</td>\n",
       "      <td>41</td>\n",
       "      <td>9</td>\n",
       "      <td>New</td>\n",
       "      <td>Big Balcony</td>\n",
       "      <td>5</td>\n",
       "      <td>No Recreation Area</td>\n",
       "    </tr>\n",
       "    <tr>\n",
       "      <th>...</th>\n",
       "      <td>...</td>\n",
       "      <td>...</td>\n",
       "      <td>...</td>\n",
       "      <td>...</td>\n",
       "      <td>...</td>\n",
       "      <td>...</td>\n",
       "      <td>...</td>\n",
       "      <td>...</td>\n",
       "      <td>...</td>\n",
       "      <td>...</td>\n",
       "      <td>...</td>\n",
       "      <td>...</td>\n",
       "      <td>...</td>\n",
       "      <td>...</td>\n",
       "    </tr>\n",
       "    <tr>\n",
       "      <th>35</th>\n",
       "      <td>1035</td>\n",
       "      <td>230000</td>\n",
       "      <td>Liberdade</td>\n",
       "      <td>Centro</td>\n",
       "      <td>360</td>\n",
       "      <td>34</td>\n",
       "      <td>1</td>\n",
       "      <td>0</td>\n",
       "      <td>13</td>\n",
       "      <td>4</td>\n",
       "      <td>New</td>\n",
       "      <td>Medium Balcony</td>\n",
       "      <td>0,1</td>\n",
       "      <td>Complete</td>\n",
       "    </tr>\n",
       "    <tr>\n",
       "      <th>71</th>\n",
       "      <td>1071</td>\n",
       "      <td>225000</td>\n",
       "      <td>Cambuci</td>\n",
       "      <td>Centro</td>\n",
       "      <td>450</td>\n",
       "      <td>36</td>\n",
       "      <td>1</td>\n",
       "      <td>0</td>\n",
       "      <td>9</td>\n",
       "      <td>1</td>\n",
       "      <td>Semi New</td>\n",
       "      <td>No Balcony</td>\n",
       "      <td>0,1</td>\n",
       "      <td>Medium</td>\n",
       "    </tr>\n",
       "    <tr>\n",
       "      <th>47</th>\n",
       "      <td>1047</td>\n",
       "      <td>225000</td>\n",
       "      <td>Cambuci</td>\n",
       "      <td>Centro</td>\n",
       "      <td>350</td>\n",
       "      <td>32</td>\n",
       "      <td>1</td>\n",
       "      <td>0</td>\n",
       "      <td>1</td>\n",
       "      <td>4</td>\n",
       "      <td>New</td>\n",
       "      <td>Medium Balcony</td>\n",
       "      <td>0,1</td>\n",
       "      <td>Medium</td>\n",
       "    </tr>\n",
       "    <tr>\n",
       "      <th>76</th>\n",
       "      <td>1076</td>\n",
       "      <td>225000</td>\n",
       "      <td>Sta Efigênia</td>\n",
       "      <td>Centro</td>\n",
       "      <td>445</td>\n",
       "      <td>42</td>\n",
       "      <td>1</td>\n",
       "      <td>0</td>\n",
       "      <td>1</td>\n",
       "      <td>3</td>\n",
       "      <td>Very Old</td>\n",
       "      <td>No Balcony</td>\n",
       "      <td>0,1</td>\n",
       "      <td>No Recreation Area</td>\n",
       "    </tr>\n",
       "    <tr>\n",
       "      <th>74</th>\n",
       "      <td>1074</td>\n",
       "      <td>220000</td>\n",
       "      <td>Cambuci</td>\n",
       "      <td>Centro</td>\n",
       "      <td>300</td>\n",
       "      <td>38</td>\n",
       "      <td>1</td>\n",
       "      <td>0</td>\n",
       "      <td>1</td>\n",
       "      <td>1</td>\n",
       "      <td>Very Old</td>\n",
       "      <td>Medium Balcony</td>\n",
       "      <td>0,1</td>\n",
       "      <td>Basic</td>\n",
       "    </tr>\n",
       "  </tbody>\n",
       "</table>\n",
       "<p>77 rows × 14 columns</p>\n",
       "</div>"
      ],
      "text/plain": [
       "      id  apt_price  neighborhood    zone  condominium_fees square meter  \\\n",
       "33  1033     349000         Mooca   Leste               420           34   \n",
       "69  1069     340000  Sta Efigênia  Centro               485           32   \n",
       "7   1007     339000       Cambuci  Centro               290           35   \n",
       "10  1010     335000         Mooca   Leste               235           34   \n",
       "30  1030     330000      Ipiranga     Sul               390           25   \n",
       "..   ...        ...           ...     ...               ...          ...   \n",
       "35  1035     230000     Liberdade  Centro               360           34   \n",
       "71  1071     225000       Cambuci  Centro               450           36   \n",
       "47  1047     225000       Cambuci  Centro               350           32   \n",
       "76  1076     225000  Sta Efigênia  Centro               445           42   \n",
       "74  1074     220000       Cambuci  Centro               300           38   \n",
       "\n",
       "    rooms  parking_spaces  floor  furniture       age             balcony  \\\n",
       "33      1               0     17          7       New         Big Balcony   \n",
       "69      1               1      5          4       Old       Small Balcony   \n",
       "7       1               0     17         10       New  Very Large Balcony   \n",
       "10      1               0      5          9       New         Big Balcony   \n",
       "30      1               0     41          9       New         Big Balcony   \n",
       "..    ...             ...    ...        ...       ...                 ...   \n",
       "35      1               0     13          4       New      Medium Balcony   \n",
       "71      1               0      9          1  Semi New          No Balcony   \n",
       "47      1               0      1          4       New      Medium Balcony   \n",
       "76      1               0      1          3  Very Old          No Balcony   \n",
       "74      1               0      1          1  Very Old      Medium Balcony   \n",
       "\n",
       "   windowpane     recreation_area  \n",
       "33          2            Complete  \n",
       "69        0,1              Medium  \n",
       "7        10,1              Medium  \n",
       "10       10,1            Complete  \n",
       "30          5  No Recreation Area  \n",
       "..        ...                 ...  \n",
       "35        0,1            Complete  \n",
       "71        0,1              Medium  \n",
       "47        0,1              Medium  \n",
       "76        0,1  No Recreation Area  \n",
       "74        0,1               Basic  \n",
       "\n",
       "[77 rows x 14 columns]"
      ]
     },
     "execution_count": 73,
     "metadata": {},
     "output_type": "execute_result"
    }
   ],
   "source": [
    "df.sort_values('apt_price', ascending=False) "
   ]
  },
  {
   "cell_type": "code",
   "execution_count": 75,
   "id": "24958d6b-f4d4-4f5c-b5ae-e1ef4e87dcbd",
   "metadata": {},
   "outputs": [
    {
     "name": "stdout",
     "output_type": "stream",
     "text": [
      "neighborhood\n",
      "Cambuci         27\n",
      "Brás            11\n",
      "Catumbi          6\n",
      "Liberdade        6\n",
      "Belenzinho       5\n",
      "Sta Efigênia     4\n",
      "Tucuruvi         3\n",
      "Mooca            3\n",
      "Ipiranga         2\n",
      "Vl Gustavo       1\n",
      "Vl Aurora        1\n",
      "República        1\n",
      "Vl Prudente      1\n",
      "Vl Monumento     1\n",
      "Vl Mazzei        1\n",
      "Vila Andrade     1\n",
      "Qta Paineira     1\n",
      "Vl Guilherme     1\n",
      "Santana          1\n",
      "Name: count, dtype: int64\n"
     ]
    }
   ],
   "source": [
    "print(df.neighborhood.value_counts())"
   ]
  },
  {
   "cell_type": "code",
   "execution_count": 77,
   "id": "da16e5ab-abbf-4d62-8ef6-448341ae55d6",
   "metadata": {},
   "outputs": [
    {
     "name": "stdout",
     "output_type": "stream",
     "text": [
      "zone\n",
      "Centro    49\n",
      "Norte     14\n",
      "Leste     10\n",
      "Sul        4\n",
      "Name: count, dtype: int64\n"
     ]
    }
   ],
   "source": [
    "print(df.zone.value_counts())"
   ]
  },
  {
   "cell_type": "code",
   "execution_count": 79,
   "id": "c21ee4a5-b310-4c75-b520-89db2f0a67d0",
   "metadata": {},
   "outputs": [
    {
     "name": "stdout",
     "output_type": "stream",
     "text": [
      "age\n",
      "New         57\n",
      "Semi New    12\n",
      "Old          6\n",
      "Very Old     2\n",
      "Name: count, dtype: int64\n"
     ]
    }
   ],
   "source": [
    "print(df.age.value_counts())"
   ]
  },
  {
   "cell_type": "code",
   "execution_count": 81,
   "id": "5afa4b9e-b48f-465f-8b60-8c25e3f232f2",
   "metadata": {},
   "outputs": [
    {
     "name": "stdout",
     "output_type": "stream",
     "text": [
      "220000\n"
     ]
    }
   ],
   "source": [
    "print(df['apt_price'].min())"
   ]
  },
  {
   "cell_type": "code",
   "execution_count": 83,
   "id": "c6d88cd6-a54f-49ab-88f3-0ea8c6982356",
   "metadata": {},
   "outputs": [
    {
     "name": "stdout",
     "output_type": "stream",
     "text": [
      "349000\n"
     ]
    }
   ],
   "source": [
    "print(df['apt_price'].max())"
   ]
  },
  {
   "cell_type": "code",
   "execution_count": 85,
   "id": "1c24dd71-a210-466b-a4fe-cf4529fccaf8",
   "metadata": {},
   "outputs": [
    {
     "name": "stdout",
     "output_type": "stream",
     "text": [
      "97\n"
     ]
    }
   ],
   "source": [
    "print(df['condominium_fees'].min())"
   ]
  },
  {
   "cell_type": "code",
   "execution_count": 87,
   "id": "025291cd-43b7-462f-b435-a284a52ae068",
   "metadata": {},
   "outputs": [
    {
     "name": "stdout",
     "output_type": "stream",
     "text": [
      "600\n"
     ]
    }
   ],
   "source": [
    "print(df['condominium_fees'].max())"
   ]
  },
  {
   "cell_type": "code",
   "execution_count": 89,
   "id": "44728b2f-1a0c-4fcf-a84a-2c9e00679112",
   "metadata": {},
   "outputs": [
    {
     "name": "stdout",
     "output_type": "stream",
     "text": [
      "281846.75324675324\n"
     ]
    }
   ],
   "source": [
    "print(df['apt_price'].mean())"
   ]
  },
  {
   "cell_type": "code",
   "execution_count": 91,
   "id": "f60df56e-ed3c-46d8-b64d-ebf562c50ce3",
   "metadata": {},
   "outputs": [
    {
     "name": "stdout",
     "output_type": "stream",
     "text": [
      "280000.0\n"
     ]
    }
   ],
   "source": [
    "print(df['apt_price'].median())"
   ]
  },
  {
   "cell_type": "code",
   "execution_count": 93,
   "id": "74325397-5748-45f7-8473-5d8a4973d9fc",
   "metadata": {},
   "outputs": [
    {
     "name": "stdout",
     "output_type": "stream",
     "text": [
      "1143203048.5304172\n"
     ]
    }
   ],
   "source": [
    "print(df['apt_price'].var())"
   ]
  },
  {
   "cell_type": "code",
   "execution_count": 95,
   "id": "214858d6-2b93-4c63-b33f-e7d2d5c83b70",
   "metadata": {},
   "outputs": [
    {
     "name": "stdout",
     "output_type": "stream",
     "text": [
      "7444.906356801095\n"
     ]
    }
   ],
   "source": [
    "print(df['condominium_fees'].var())"
   ]
  },
  {
   "cell_type": "code",
   "execution_count": 97,
   "id": "98e3a5d0-3042-477c-91e9-9d807809c02a",
   "metadata": {},
   "outputs": [
    {
     "name": "stdout",
     "output_type": "stream",
     "text": [
      "365.961038961039\n"
     ]
    }
   ],
   "source": [
    "print(df['condominium_fees'].mean())"
   ]
  },
  {
   "cell_type": "code",
   "execution_count": 99,
   "id": "d23b6026-b79b-4a26-8fc1-ab3adb7bb369",
   "metadata": {},
   "outputs": [
    {
     "name": "stdout",
     "output_type": "stream",
     "text": [
      "id                  0\n",
      "apt_price           0\n",
      "neighborhood        0\n",
      "zone                0\n",
      "condominium_fees    0\n",
      "square meter        0\n",
      "rooms               0\n",
      "parking_spaces      0\n",
      "floor               0\n",
      "furniture           0\n",
      "age                 0\n",
      "balcony             0\n",
      "windowpane          0\n",
      "recreation_area     0\n",
      "dtype: int64\n"
     ]
    }
   ],
   "source": [
    "print(df.isnull().sum()) "
   ]
  },
  {
   "cell_type": "code",
   "execution_count": 101,
   "id": "21fac59e-33d7-4a44-9b87-ac91ba8f484b",
   "metadata": {},
   "outputs": [
    {
     "name": "stdout",
     "output_type": "stream",
     "text": [
      "21702200\n"
     ]
    }
   ],
   "source": [
    "print(df['apt_price'].sum())"
   ]
  },
  {
   "cell_type": "code",
   "execution_count": 103,
   "id": "1649c503-616f-4cf3-baa5-df8fe888f57f",
   "metadata": {},
   "outputs": [
    {
     "name": "stdout",
     "output_type": "stream",
     "text": [
      "28179\n"
     ]
    }
   ],
   "source": [
    "print(df['condominium_fees'].sum())"
   ]
  },
  {
   "cell_type": "code",
   "execution_count": 113,
   "id": "d31b5f21-f437-403b-b781-610f9a4fe364",
   "metadata": {},
   "outputs": [
    {
     "data": {
      "image/png": "[encoded data removed]",
      "text/plain": [
       "<Figure size 640x480 with 1 Axes>"
      ]
     },
     "metadata": {},
     "output_type": "display_data"
    }
   ],
   "source": [
    "import seaborn as sns\n",
    "import matplotlib.pyplot as plt\n",
    "sns.countplot(x='zone',data = df, order = ['Centro', 'Norte', 'Leste', 'Sul'])\n",
    "plt.show()"
   ]
  },
  {
   "cell_type": "code",
   "execution_count": 115,
   "id": "975ac1e6-8cd2-4f5f-8c88-ae6cc69ec0b6",
   "metadata": {},
   "outputs": [
    {
     "data": {
      "image/png": "[encoded data removed]",
      "text/plain": [
       "<Figure size 640x480 with 1 Axes>"
      ]
     },
     "metadata": {},
     "output_type": "display_data"
    }
   ],
   "source": [
    "import seaborn as sns\n",
    "import matplotlib.pyplot as plt\n",
    "sns.countplot(x='age',data = df)\n",
    "plt.show()"
   ]
  },
  {
   "cell_type": "code",
   "execution_count": 117,
   "id": "916bada5-c7a9-4a96-846a-c6af098ebcde",
   "metadata": {},
   "outputs": [
    {
     "data": {
      "image/png": "[encoded data removed]",
      "text/plain": [
       "<Figure size 640x480 with 1 Axes>"
      ]
     },
     "metadata": {},
     "output_type": "display_data"
    }
   ],
   "source": [
    "import seaborn as sns\n",
    "import matplotlib.pyplot as plt\n",
    "sns.barplot(x='age',y = 'apt_price',data = df)\n",
    "plt.show()"
   ]
  },
  {
   "cell_type": "code",
   "execution_count": 121,
   "id": "e7dbbd11-5cb5-49f2-9845-9a37d20621d4",
   "metadata": {},
   "outputs": [
    {
     "data": {
      "image/png": "[encoded data removed]",
      "text/plain": [
       "<Figure size 640x480 with 1 Axes>"
      ]
     },
     "metadata": {},
     "output_type": "display_data"
    }
   ],
   "source": [
    "import matplotlib.pyplot as plt\n",
    "import seaborn as sns\n",
    "sns.barplot(x='apt_price',y = 'neighborhood',data = df, hue = 'zone')\n",
    "plt.show()"
   ]
  },
  {
   "cell_type": "code",
   "execution_count": 123,
   "id": "bc026315-05c7-464e-98a5-1aa7f2dd2081",
   "metadata": {},
   "outputs": [
    {
     "data": {
      "image/png": "[encoded data removed]",
      "text/plain": [
       "<Figure size 640x480 with 1 Axes>"
      ]
     },
     "metadata": {},
     "output_type": "display_data"
    }
   ],
   "source": [
    "import matplotlib.pyplot as plt\n",
    "import seaborn as sns\n",
    "sns.barplot(x='apt_price',y = 'zone',data = df)\n",
    "plt.show()"
   ]
  },
  {
   "cell_type": "code",
   "execution_count": 125,
   "id": "2f2a3b09-5bc5-4345-9acd-4d75b913b446",
   "metadata": {},
   "outputs": [
    {
     "data": {
      "image/png": "[encoded data removed]",
      "text/plain": [
       "<Figure size 640x480 with 1 Axes>"
      ]
     },
     "metadata": {},
     "output_type": "display_data"
    }
   ],
   "source": [
    "import matplotlib.pyplot as plt\n",
    "import seaborn as sns\n",
    "sns.scatterplot(x='apt_price',y = 'condominium_fees',data = df, hue = 'condominium_fees')\n",
    "plt.show()"
   ]
  },
  {
   "cell_type": "code",
   "execution_count": 127,
   "id": "b82a3e1d-09c3-4808-aa42-247c6aecf812",
   "metadata": {},
   "outputs": [
    {
     "data": {
      "image/png": "[encoded data removed]",
      "text/plain": [
       "<Figure size 640x480 with 1 Axes>"
      ]
     },
     "metadata": {},
     "output_type": "display_data"
    }
   ],
   "source": [
    "import matplotlib.pyplot as plt\n",
    "import seaborn as sns\n",
    "sns.scatterplot(x='condominium_fees',y = 'apt_price',data = df, hue = 'condominium_fees')\n",
    "plt.show()"
   ]
  },
  {
   "cell_type": "code",
   "execution_count": null,
   "id": "619d077f-ade5-49b2-9a04-f92c590b87fe",
   "metadata": {},
   "outputs": [],
   "source": []
  }
 ],
 "metadata": {
  "kernelspec": {
   "display_name": "Python [conda env:base] *",
   "language": "python",
   "name": "conda-base-py"
  },
  "language_info": {
   "codemirror_mode": {
    "name": "ipython",
    "version": 3
   },
   "file_extension": ".py",
   "mimetype": "text/x-python",
   "name": "python",
   "nbconvert_exporter": "python",
   "pygments_lexer": "ipython3",
   "version": "3.12.7"
  }
 },
 "nbformat": 4,
 "nbformat_minor": 5
}
